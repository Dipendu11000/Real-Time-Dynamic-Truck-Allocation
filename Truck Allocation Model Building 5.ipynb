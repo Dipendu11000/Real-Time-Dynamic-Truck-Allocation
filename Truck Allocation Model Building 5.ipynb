{
 "cells": [
  {
   "cell_type": "code",
   "execution_count": 1,
   "id": "e2dfe021",
   "metadata": {},
   "outputs": [],
   "source": [
    "import pandas as pd\n",
    "from sklearn.model_selection import train_test_split\n",
    "from sklearn.ensemble import RandomForestClassifier\n",
    "from sklearn.metrics import accuracy_score\n",
    "from sklearn.preprocessing import LabelEncoder\n",
    "data = pd.read_csv(\"Combined_Dataset.csv\")\n",
    "data2 = data.iloc[:3000]"
   ]
  },
  {
   "cell_type": "code",
   "execution_count": 2,
   "id": "7e188c8d",
   "metadata": {},
   "outputs": [],
   "source": [
    "relevant_columns = ['HSD_Requirement', 'LDO_Requirement', 'FO_Requirement', \n",
    "                    'LSHS_Requirement', 'SKO_Requirement', 'MS_Requirement', \n",
    "                    'Truck_Capacity', 'Weather', 'Traffic', 'Local_Infrastructure', \n",
    "                    'Night_Driving', 'Customer_Satisfaction', 'Truck_Number']"
   ]
  },
  {
   "cell_type": "code",
   "execution_count": null,
   "id": "1de0b1f0",
   "metadata": {},
   "outputs": [],
   "source": []
  },
  {
   "cell_type": "code",
   "execution_count": null,
   "id": "99105d1b",
   "metadata": {},
   "outputs": [],
   "source": []
  },
  {
   "cell_type": "code",
   "execution_count": null,
   "id": "e4b0d772",
   "metadata": {},
   "outputs": [],
   "source": []
  },
  {
   "cell_type": "code",
   "execution_count": 3,
   "id": "00c76ec6",
   "metadata": {},
   "outputs": [],
   "source": [
    "clusters = data2['Cluster_ID'].unique()\n",
    "models = {}\n",
    "for cluster in clusters:\n",
    "    cluster_data = data2[data2['Cluster_ID'] == cluster]\n",
    "    cluster_data = cluster_data[relevant_columns]  \n",
    "    label_encoders = {}\n",
    "    for column in ['Weather', 'Traffic', 'Local_Infrastructure', 'Night_Driving', 'Customer_Satisfaction']:\n",
    "        label_encoders[column] = LabelEncoder()\n",
    "        cluster_data[column] = label_encoders[column].fit_transform(cluster_data[column])\n",
    "    X = cluster_data.drop(columns=['Truck_Number'])\n",
    "    y = cluster_data['Truck_Number']\n",
    "    X_train, X_test, y_train, y_test = train_test_split(X, y, test_size=0.2, random_state=42)\n",
    "    model = RandomForestClassifier()\n",
    "    model.fit(X_train, y_train)\n",
    "    models[cluster] = model"
   ]
  },
  {
   "cell_type": "code",
   "execution_count": 4,
   "id": "7d4b3eac",
   "metadata": {},
   "outputs": [],
   "source": [
    "# Step 3: Predict Truck Allocation based on cluster\n",
    "def predict_truck_allocation(input_data, cluster_id):\n",
    "    input_df = pd.DataFrame([input_data])\n",
    "    for column in ['Weather', 'Traffic', 'Local_Infrastructure', 'Night_Driving', 'Customer_Satisfaction']:\n",
    "        input_df[column] = label_encoders[column].transform([input_data[column]])\n",
    "    \n",
    "    model = models[cluster_id]\n",
    "    predicted_truck = model.predict(input_df.drop(columns=['Customer_ID']))\n",
    "    return predicted_truck"
   ]
  },
  {
   "cell_type": "code",
   "execution_count": 5,
   "id": "5351f849",
   "metadata": {},
   "outputs": [],
   "source": [
    "def find_cluster_id(input_data):\n",
    "    customer_id = input_data['Customer_ID']\n",
    "    customer_data = data[data['Customer_ID'] == customer_id]\n",
    "    if len(customer_data) == 0:\n",
    "        print(\"Customer ID not found in the dataset\")\n",
    "        return None\n",
    "    cluster_id = customer_data.iloc[0]['Cluster_ID']\n",
    "    return cluster_id"
   ]
  },
  {
   "cell_type": "code",
   "execution_count": 6,
   "id": "83b4a5c3",
   "metadata": {},
   "outputs": [
    {
     "name": "stdout",
     "output_type": "stream",
     "text": [
      "Cluster ID for Customer ID 'Customer758' is 'Cluster58'\n",
      "['Cluster58_Truck1152']\n"
     ]
    }
   ],
   "source": [
    "input_data = {\n",
    "   'HSD_Requirement': 30,\n",
    "    'LDO_Requirement': 20,\n",
    "    'FO_Requirement': 25,\n",
    "    'LSHS_Requirement': 15,\n",
    "    'SKO_Requirement': 10,\n",
    "    'MS_Requirement': 35, \n",
    "    'Truck_Capacity': 450,\n",
    "    'Weather': 'Cloudy', \n",
    "    'Traffic': 2,  \n",
    "    'Local_Infrastructure': 'Good', \n",
    "    'Night_Driving': 'Yes', \n",
    "    'Customer_Satisfaction': 'Good',  \n",
    "    'Customer_ID': 'Customer758',\n",
    "    #'Cluster_ID': 'Cluster1'  # Assuming you have cluster ID information for each customer\n",
    "}\n",
    "cluster_id = find_cluster_id(input_data)\n",
    "if cluster_id is not None:\n",
    "    print(f\"Cluster ID for Customer ID '{input_data['Customer_ID']}' is '{cluster_id}'\")\n",
    "predicted_truck = predict_truck_allocation(input_data, cluster_id)\n",
    "print(predicted_truck)"
   ]
  },
  {
   "cell_type": "code",
   "execution_count": 7,
   "id": "914a141b",
   "metadata": {},
   "outputs": [],
   "source": [
    "# Step 4: Get Priority List - This needs to be implemented based on your requirements.\n",
    "# Step 5: Check Truck Availability - Implement mechanism to check truck availability based on real-time coordinates."
   ]
  },
  {
   "cell_type": "code",
   "execution_count": null,
   "id": "f3d767bd",
   "metadata": {},
   "outputs": [],
   "source": []
  }
 ],
 "metadata": {
  "kernelspec": {
   "display_name": "Python 3 (ipykernel)",
   "language": "python",
   "name": "python3"
  },
  "language_info": {
   "codemirror_mode": {
    "name": "ipython",
    "version": 3
   },
   "file_extension": ".py",
   "mimetype": "text/x-python",
   "name": "python",
   "nbconvert_exporter": "python",
   "pygments_lexer": "ipython3",
   "version": "3.10.11"
  }
 },
 "nbformat": 4,
 "nbformat_minor": 5
}
