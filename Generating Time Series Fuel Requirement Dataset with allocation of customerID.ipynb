{
 "cells": [
  {
   "cell_type": "code",
   "execution_count": 3,
   "id": "b0c82508",
   "metadata": {},
   "outputs": [],
   "source": [
    "import pandas as pd\n",
    "import numpy as np\n",
    "customer_ids = [\"Customer\" + str(i) for i in range(1, 2001)]\n",
    "dates = pd.date_range(start='2021-01-03', end='2023-12-31', freq='W-SUN').strftime('%d-%m-%Y').tolist()\n",
    "customers_per_week = len(customer_ids) // len(dates)\n",
    "extra_customers = len(customer_ids) % len(dates)\n",
    "dates_with_extra_customers = np.random.choice(dates, extra_customers, replace=False)\n",
    "assignments = {}\n",
    "for date in dates:\n",
    "    num_customers = customers_per_week\n",
    "    if date in dates_with_extra_customers:\n",
    "        num_customers += 1\n",
    "    assigned_customers = np.random.choice(customer_ids, num_customers, replace=False)\n",
    "    assignments[date] = assigned_customers\n",
    "    for customer in assigned_customers:\n",
    "        customer_ids.remove(customer)\n",
    "df = pd.DataFrame(assignments.items(), columns=['Date', 'Customer_IDs'])\n",
    "df = df.explode('Customer_IDs')\n",
    "df.reset_index(drop=True, inplace=True)"
   ]
  },
  {
   "cell_type": "code",
   "execution_count": 4,
   "id": "c0a6db0e",
   "metadata": {},
   "outputs": [],
   "source": [
    "df.to_csv('historical_fuel_requirements_customer_assignment.csv', index=False)"
   ]
  },
  {
   "cell_type": "code",
   "execution_count": null,
   "id": "1a1c08f5",
   "metadata": {},
   "outputs": [],
   "source": []
  }
 ],
 "metadata": {
  "kernelspec": {
   "display_name": "Python 3 (ipykernel)",
   "language": "python",
   "name": "python3"
  },
  "language_info": {
   "codemirror_mode": {
    "name": "ipython",
    "version": 3
   },
   "file_extension": ".py",
   "mimetype": "text/x-python",
   "name": "python",
   "nbconvert_exporter": "python",
   "pygments_lexer": "ipython3",
   "version": "3.10.11"
  }
 },
 "nbformat": 4,
 "nbformat_minor": 5
}
