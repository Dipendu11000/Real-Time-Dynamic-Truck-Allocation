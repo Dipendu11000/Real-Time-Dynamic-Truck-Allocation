{
 "cells": [
  {
   "cell_type": "code",
   "execution_count": 2,
   "id": "9843fad4",
   "metadata": {},
   "outputs": [],
   "source": [
    "import pandas as pd\n",
    "from sklearn.preprocessing import LabelEncoder\n",
    "from sklearn.ensemble import RandomForestRegressor\n",
    "import numpy as np\n",
    "\n",
    "data = pd.read_csv(\"IMS_Dataset.csv\")\n",
    "label_encoder_customer = LabelEncoder()\n",
    "label_encoder_customer.fit(data['Customer_ID'])\n",
    "label_encoder_cluster = LabelEncoder()\n",
    "label_encoder_cluster.fit(data['Cluster_ID'])\n",
    "data['Customer_ID_encoded'] = label_encoder_customer.transform(data['Customer_ID'])\n",
    "data['Cluster_ID_encoded'] = label_encoder_cluster.transform(data['Cluster_ID'])"
   ]
  },
  {
   "cell_type": "code",
   "execution_count": 4,
   "id": "4881a087",
   "metadata": {},
   "outputs": [],
   "source": [
    "def train_predict_requirement(requirement_column, all_columns):\n",
    "    predictions = pd.DataFrame(columns=['Customer_ID', 'Cluster_ID', requirement_column + '_Predicted'])\n",
    "    print(\"checkpoint\")\n",
    "    for customer_id in data['Customer_ID'].unique():\n",
    "        customer_data = data[data['Customer_ID'] == customer_id]\n",
    "        X = customer_data[all_columns]\n",
    "        y = customer_data[requirement_column]\n",
    "        model = RandomForestRegressor()\n",
    "        model.fit(X, y)\n",
    "        requirement_predicted = model.predict(X)\n",
    "        mean_prediction = np.mean(requirement_predicted)\n",
    "        customer_cluster = customer_data['Cluster_ID'].iloc[0]\n",
    "        customer_prediction = pd.DataFrame({'Customer_ID': [customer_id], \n",
    "                                            'Cluster_ID': [customer_cluster],\n",
    "                                            requirement_column + '_Predicted': [mean_prediction]})\n",
    "        predictions = pd.concat([predictions, customer_prediction], ignore_index=True)\n",
    "    return predictions"
   ]
  },
  {
   "cell_type": "code",
   "execution_count": 5,
   "id": "c26cb4de",
   "metadata": {},
   "outputs": [
    {
     "name": "stdout",
     "output_type": "stream",
     "text": [
      "checkpoint\n",
      "checkpoint\n",
      "checkpoint\n",
      "checkpoint\n",
      "checkpoint\n",
      "checkpoint\n"
     ]
    }
   ],
   "source": [
    "all_columns = ['HSD_Requirement', 'LDO_Requirement', 'FO_Requirement', 'LSHS_Requirement', 'MS_Requirement', 'SKO_Requirement', 'Customer_ID_encoded', 'Cluster_ID_encoded']\n",
    "fuel_requirements_predictions = pd.DataFrame()\n",
    "for requirement_column in ['HSD_Requirement', 'LDO_Requirement', 'FO_Requirement', 'LSHS_Requirement', 'MS_Requirement', 'SKO_Requirement']:\n",
    "    prediction_df = train_predict_requirement(requirement_column, all_columns)\n",
    "    fuel_requirements_predictions = pd.concat([fuel_requirements_predictions, prediction_df], ignore_index=True)"
   ]
  },
  {
   "cell_type": "code",
   "execution_count": 6,
   "id": "02aa3d7f",
   "metadata": {},
   "outputs": [],
   "source": [
    "fuel_requirements_predictions.to_csv(\"Final_Fuel_Requirement_Predictions.csv\", index=False)"
   ]
  },
  {
   "cell_type": "code",
   "execution_count": null,
   "id": "2b0b5e0e",
   "metadata": {},
   "outputs": [],
   "source": []
  }
 ],
 "metadata": {
  "kernelspec": {
   "display_name": "Python 3 (ipykernel)",
   "language": "python",
   "name": "python3"
  },
  "language_info": {
   "codemirror_mode": {
    "name": "ipython",
    "version": 3
   },
   "file_extension": ".py",
   "mimetype": "text/x-python",
   "name": "python",
   "nbconvert_exporter": "python",
   "pygments_lexer": "ipython3",
   "version": "3.10.11"
  }
 },
 "nbformat": 4,
 "nbformat_minor": 5
}
