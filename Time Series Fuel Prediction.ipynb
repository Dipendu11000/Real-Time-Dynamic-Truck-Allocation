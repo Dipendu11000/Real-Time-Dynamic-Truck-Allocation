{
 "cells": [
  {
   "cell_type": "code",
   "execution_count": null,
   "id": "dcf7709a",
   "metadata": {},
   "outputs": [],
   "source": [
    "import pandas as pd\n",
    "from statsmodels.tsa.statespace.sarimax import SARIMAX\n",
    "historical_data = pd.read_csv(\"historical_fuel_requirements.csv\")\n",
    "customer_assignments = pd.read_csv(\"historical_fuel_requirements_customer_assignment.csv\")"
   ]
  },
  {
   "cell_type": "code",
   "execution_count": null,
   "id": "374add8c",
   "metadata": {},
   "outputs": [],
   "source": [
    "# Function to train SARIMA model and make predictions for next week\n",
    "def train_and_predict_sarima(train_data, test_data):\n",
    "    # Train SARIMA model\n",
    "    model = SARIMAX(train_data['Requirement'], order=(1, 1, 1), seasonal_order=(1, 1, 1, 52))\n",
    "    sarima_model = model.fit()\n",
    "    # Forecast fuel requirement for the next week\n",
    "    forecast = sarima_model.forecast(steps=1)\n",
    "    return forecast[0]\n",
    "\n",
    "predicted_fuel_requirements = pd.DataFrame(columns=['Customer_ID', 'Date', 'Fuel_Type', 'Predicted_Requirement'])"
   ]
  },
  {
   "cell_type": "code",
   "execution_count": null,
   "id": "5454cc92",
   "metadata": {},
   "outputs": [],
   "source": [
    "# Iterating over each week and corresponding customer assignments\n",
    "for week_start_date in historical_data['Date'].unique():\n",
    "    # Filtering customer assignments for the current week\n",
    "    week_assignments = customer_assignments[customer_assignments['Date'] == week_start_date]\n",
    "    if len(week_assignments) == 0:\n",
    "        continue  # Skipping if no assignments found for this week\n",
    "    for index, row in week_assignments.iterrows():\n",
    "        customer_id = row['Customer_ID']  \n",
    "        customer_data = historical_data[(historical_data['Date'] == week_start_date) & \n",
    "                                        (historical_data['Customer_Assignment'] == customer_id)]\n",
    "        for fuel_type in ['HSD_Requirement', 'LDO_Requirement', 'FO_Requirement', \n",
    "                          'LSHS_Requirement', 'SKO_Requirement', 'MS_Requirement']:\n",
    "            train_data = customer_data[customer_data['Date'] < week_start_date]\n",
    "            test_data = customer_data[customer_data['Date'] == week_start_date]\n",
    "            # Training SARIMA model and make predictions for next week\n",
    "            predicted_requirement = train_and_predict_sarima(train_data, test_data)\n",
    "            predicted_fuel_requirements = predicted_fuel_requirements.append({'Customer_ID': customer_id,\n",
    "                                                                              'Date': week_start_date,  \n",
    "                                                                              'Fuel_Type': fuel_type,\n",
    "                                                                              'Predicted_Requirement': predicted_requirement},\n",
    "                                                                             ignore_index=True)"
   ]
  },
  {
   "cell_type": "code",
   "execution_count": null,
   "id": "b1e48f99",
   "metadata": {},
   "outputs": [],
   "source": [
    "predicted_fuel_requirements.to_csv(\"Time_Series_Fuel_Requirement_Prediction_Data.csv\", index=False)"
   ]
  },
  {
   "cell_type": "code",
   "execution_count": null,
   "id": "b9292254",
   "metadata": {},
   "outputs": [],
   "source": []
  }
 ],
 "metadata": {
  "kernelspec": {
   "display_name": "Python 3 (ipykernel)",
   "language": "python",
   "name": "python3"
  },
  "language_info": {
   "codemirror_mode": {
    "name": "ipython",
    "version": 3
   },
   "file_extension": ".py",
   "mimetype": "text/x-python",
   "name": "python",
   "nbconvert_exporter": "python",
   "pygments_lexer": "ipython3",
   "version": "3.10.11"
  }
 },
 "nbformat": 4,
 "nbformat_minor": 5
}
