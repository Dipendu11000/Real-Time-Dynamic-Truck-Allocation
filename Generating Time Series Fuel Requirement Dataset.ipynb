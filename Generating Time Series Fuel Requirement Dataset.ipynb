{
 "cells": [
  {
   "cell_type": "code",
   "execution_count": 1,
   "id": "3ce3b03e",
   "metadata": {},
   "outputs": [],
   "source": [
    "import pandas as pd\n",
    "import numpy as np\n",
    "from datetime import datetime, timedelta\n",
    "\n",
    "# Define date range\n",
    "start_date = '2021-01-01'\n",
    "end_date = '2024-01-01'\n",
    "date_range = pd.date_range(start=start_date, end=end_date, freq='W')"
   ]
  },
  {
   "cell_type": "code",
   "execution_count": 2,
   "id": "a4c33f82",
   "metadata": {},
   "outputs": [],
   "source": [
    "data = {\n",
    "    'Date': date_range,\n",
    "    'HSD_Requirement': np.random.randint(0, 71, size=len(date_range)),\n",
    "    'LDO_Requirement': np.random.randint(0, 71, size=len(date_range)),\n",
    "    'FO_Requirement': np.random.randint(0, 71, size=len(date_range)),\n",
    "    'LSHS_Requirement': np.random.randint(0, 71, size=len(date_range)),\n",
    "    'SKO_Requirement': np.random.randint(0, 71, size=len(date_range)),\n",
    "    'MS_Requirement': np.random.randint(0, 71, size=len(date_range))\n",
    "}\n",
    "df = pd.DataFrame(data)\n",
    "df.to_csv('historical_fuel_requirements.csv', index=False)"
   ]
  },
  {
   "cell_type": "code",
   "execution_count": null,
   "id": "c75a0099",
   "metadata": {},
   "outputs": [],
   "source": []
  },
  {
   "cell_type": "code",
   "execution_count": null,
   "id": "5aa3fa9e",
   "metadata": {},
   "outputs": [],
   "source": []
  },
  {
   "cell_type": "code",
   "execution_count": null,
   "id": "cceb51c3",
   "metadata": {},
   "outputs": [],
   "source": []
  },
  {
   "cell_type": "code",
   "execution_count": null,
   "id": "2826ccca",
   "metadata": {},
   "outputs": [],
   "source": []
  }
 ],
 "metadata": {
  "kernelspec": {
   "display_name": "Python 3 (ipykernel)",
   "language": "python",
   "name": "python3"
  },
  "language_info": {
   "codemirror_mode": {
    "name": "ipython",
    "version": 3
   },
   "file_extension": ".py",
   "mimetype": "text/x-python",
   "name": "python",
   "nbconvert_exporter": "python",
   "pygments_lexer": "ipython3",
   "version": "3.10.11"
  }
 },
 "nbformat": 4,
 "nbformat_minor": 5
}
